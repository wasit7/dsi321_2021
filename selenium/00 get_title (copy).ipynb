{
 "cells": [
  {
   "cell_type": "code",
   "execution_count": 1,
   "id": "increased-character",
   "metadata": {},
   "outputs": [
    {
     "name": "stdout",
     "output_type": "stream",
     "text": [
      "Welcome to Python.org\n"
     ]
    }
   ],
   "source": [
    "from selenium import webdriver\n",
    "\n",
    "PATH='./chromedriver'\n",
    "driver = webdriver.Chrome(PATH)\n",
    "\n",
    "driver.get(\"http://www.python.org\")\n",
    "print(driver.title)"
   ]
  },
  {
   "cell_type": "code",
   "execution_count": 2,
   "id": "actual-entertainment",
   "metadata": {},
   "outputs": [
    {
     "name": "stdout",
     "output_type": "stream",
     "text": [
      "python-meta current_item selectedcurrent_branch selected\n",
      "https://www.python.org/\n",
      "\n",
      "psf-meta \n",
      "https://www.python.org/psf-landing/\n",
      "\n",
      "docs-meta \n",
      "https://docs.python.org/\n",
      "\n",
      "pypi-meta \n",
      "https://pypi.org/\n",
      "\n",
      "jobs-meta \n",
      "https://www.python.org/jobs/\n",
      "\n",
      "shop-meta \n",
      "https://www.python.org/community-landing/\n",
      "\n"
     ]
    }
   ],
   "source": [
    "from selenium.webdriver.common.by import By\n",
    "\n",
    "top=driver.find_element_by_css_selector('#top')\n",
    "nav=top.find_element_by_css_selector('nav')\n",
    "menu=nav.find_element_by_css_selector('ul')\n",
    "\n",
    "for i in menu.find_elements(By.CSS_SELECTOR,'li'):\n",
    "    print(i.get_attribute('class'))\n",
    "    print(\n",
    "        i\\\n",
    "        .find_element_by_css_selector('a')\\\n",
    "        .get_attribute('href')\n",
    "    )\n",
    "    print()"
   ]
  },
  {
   "cell_type": "code",
   "execution_count": 3,
   "id": "auburn-nelson",
   "metadata": {},
   "outputs": [],
   "source": [
    "list_menu = driver.find_element_by_css_selector('.psf-meta')"
   ]
  },
  {
   "cell_type": "code",
   "execution_count": 4,
   "id": "ranging-lighter",
   "metadata": {},
   "outputs": [],
   "source": [
    "a=list_menu.find_element_by_css_selector('a')"
   ]
  },
  {
   "cell_type": "code",
   "execution_count": 5,
   "id": "motivated-contamination",
   "metadata": {},
   "outputs": [
    {
     "data": {
      "text/plain": [
       "'The Python Software Foundation'"
      ]
     },
     "execution_count": 5,
     "metadata": {},
     "output_type": "execute_result"
    }
   ],
   "source": [
    "a.get_attribute('title')"
   ]
  },
  {
   "cell_type": "code",
   "execution_count": 6,
   "id": "respective-pepper",
   "metadata": {},
   "outputs": [],
   "source": [
    "a.click()"
   ]
  },
  {
   "cell_type": "code",
   "execution_count": null,
   "id": "second-setup",
   "metadata": {},
   "outputs": [],
   "source": [
    "a."
   ]
  }
 ],
 "metadata": {
  "kernelspec": {
   "display_name": "Python 3",
   "language": "python",
   "name": "python3"
  },
  "language_info": {
   "codemirror_mode": {
    "name": "ipython",
    "version": 3
   },
   "file_extension": ".py",
   "mimetype": "text/x-python",
   "name": "python",
   "nbconvert_exporter": "python",
   "pygments_lexer": "ipython3",
   "version": "3.6.13"
  }
 },
 "nbformat": 4,
 "nbformat_minor": 5
}
